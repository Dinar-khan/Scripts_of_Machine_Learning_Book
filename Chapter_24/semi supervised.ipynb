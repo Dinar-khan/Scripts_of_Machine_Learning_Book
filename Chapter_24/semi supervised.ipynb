{
 "cells": [
  {
   "cell_type": "code",
   "execution_count": 1,
   "metadata": {},
   "outputs": [
    {
     "name": "stdout",
     "output_type": "stream",
     "text": [
      "Requirement already satisfied: pypcc in c:\\users\\sana.rasheed\\anaconda3\\lib\\site-packages (0.0.6)\n",
      "Requirement already satisfied: numpy in c:\\users\\sana.rasheed\\anaconda3\\lib\\site-packages (from pypcc) (1.18.1)\n",
      "Note: you may need to restart the kernel to use updated packages.\n"
     ]
    }
   ],
   "source": [
    "pip install pypcc #execute only once to install required library and then comment it out."
   ]
  },
  {
   "cell_type": "code",
   "execution_count": 2,
   "metadata": {},
   "outputs": [
    {
     "name": "stdout",
     "output_type": "stream",
     "text": [
      "Requirement already satisfied: sklearn in c:\\users\\sana.rasheed\\anaconda3\\lib\\site-packages (0.0)\n",
      "Requirement already satisfied: scikit-learn in c:\\users\\sana.rasheed\\anaconda3\\lib\\site-packages (from sklearn) (0.22.1)\n",
      "Requirement already satisfied: numpy>=1.11.0 in c:\\users\\sana.rasheed\\anaconda3\\lib\\site-packages (from scikit-learn->sklearn) (1.18.1)\n",
      "Requirement already satisfied: joblib>=0.11 in c:\\users\\sana.rasheed\\anaconda3\\lib\\site-packages (from scikit-learn->sklearn) (0.14.1)\n",
      "Requirement already satisfied: scipy>=0.17.0 in c:\\users\\sana.rasheed\\anaconda3\\lib\\site-packages (from scikit-learn->sklearn) (1.4.1)\n",
      "Note: you may need to restart the kernel to use updated packages.\n"
     ]
    }
   ],
   "source": [
    "pip install sklearn #execute only once to install required library and then comment it out."
   ]
  },
  {
   "cell_type": "code",
   "execution_count": 7,
   "metadata": {},
   "outputs": [],
   "source": [
    "from sklearn import datasets\n",
    "\n",
    "iris = datasets.load_iris()\n",
    "data = iris.data\n",
    "labels = iris.target"
   ]
  },
  {
   "cell_type": "code",
   "execution_count": 8,
   "metadata": {},
   "outputs": [],
   "source": [
    "import numpy as np\n",
    "import random\n",
    "\n",
    "def maskData(true_labels, percentage):\n",
    "\n",
    "    mask = np.ones((1,len(true_labels)),dtype=bool)[0]\n",
    "    labels = true_labels.copy()\n",
    "    \n",
    "    for l, enc in zip(np.unique(true_labels),range(0,len(np.unique(true_labels)))):\n",
    "        \n",
    "        deck = np.argwhere(true_labels == l).flatten()        \n",
    "        random.shuffle(deck)\n",
    "        \n",
    "        mask[deck[:int(percentage * len(true_labels[true_labels == l]))]] = False\n",
    "\n",
    "        labels[labels == l] = enc\n",
    "\n",
    "    labels[mask] = -1\n",
    "    \n",
    "    return np.array(labels).astype(int)"
   ]
  },
  {
   "cell_type": "code",
   "execution_count": 9,
   "metadata": {},
   "outputs": [
    {
     "name": "stderr",
     "output_type": "stream",
     "text": [
      "C:\\Users\\sana.rasheed\\Anaconda3\\lib\\site-packages\\sklearn\\semi_supervised\\_label_propagation.py:288: ConvergenceWarning: max_iter=1000 was reached without convergence.\n",
      "  category=ConvergenceWarning\n"
     ]
    }
   ],
   "source": [
    "import numpy as np\n",
    "from sklearn import datasets\n",
    "from sklearn.semi_supervised import LabelPropagation\n",
    "\n",
    "#IMPORT DATASETS\n",
    "iris = datasets.load_iris()\n",
    "data = iris.data\n",
    "labels = iris.target\n",
    "\n",
    "#UNLABEL 95% OF THE DATASET\n",
    "masked_labels = maskData(labels, 0.05)\n",
    "\n",
    "#RUN THE MODEL\n",
    "model = LabelPropagation()\n",
    "model.fit(data, masked_labels)\n",
    "pred = np.array(model.predict(data))"
   ]
  },
  {
   "cell_type": "code",
   "execution_count": 14,
   "metadata": {},
   "outputs": [
    {
     "name": "stdout",
     "output_type": "stream",
     "text": [
      "[[48  0  0]\n",
      " [ 0 48  0]\n",
      " [ 0 15 33]]\n"
     ]
    }
   ],
   "source": [
    "import numpy as np\n",
    "\n",
    "from sklearn import datasets\n",
    "from sklearn.metrics import confusion_matrix\n",
    "from sklearn.semi_supervised import LabelPropagation\n",
    "\n",
    "def runLP():\n",
    "        \n",
    "    #IMPORT DATASETS\n",
    "    iris = datasets.load_iris()\n",
    "    data = iris.data\n",
    "    labels = iris.target\n",
    "    \n",
    "    #UNLABEL 95% OF THE DATASET\n",
    "    masked_labels = maskData(labels, 0.05)\n",
    "    \n",
    "    #RUN THE MODEL\n",
    "    model = LabelPropagation()\n",
    "    model.fit(data, masked_labels)\n",
    "    pred = np.array(model.predict(data))\n",
    "    \n",
    "    #SEPARATE PREDICTED SAMPLES\n",
    "    labels = np.array(labels[masked_labels == -1]).astype(int)\n",
    "    pred = pred[masked_labels == -1]\n",
    "    \n",
    "    #PRINT CONFUSION MATRIX\n",
    "    print(confusion_matrix(labels, pred))\n",
    "    \n",
    "if __name__ == '__main__':\n",
    "    runLP()"
   ]
  },
  {
   "cell_type": "code",
   "execution_count": null,
   "metadata": {},
   "outputs": [],
   "source": []
  }
 ],
 "metadata": {
  "kernelspec": {
   "display_name": "Python 3",
   "language": "python",
   "name": "python3"
  },
  "language_info": {
   "codemirror_mode": {
    "name": "ipython",
    "version": 3
   },
   "file_extension": ".py",
   "mimetype": "text/x-python",
   "name": "python",
   "nbconvert_exporter": "python",
   "pygments_lexer": "ipython3",
   "version": "3.7.6"
  }
 },
 "nbformat": 4,
 "nbformat_minor": 4
}

{
 "cells": [
  {
   "cell_type": "markdown",
   "metadata": {},
   "source": [
    "## DB Index"
   ]
  },
  {
   "cell_type": "code",
   "execution_count": 4,
   "metadata": {},
   "outputs": [
    {
     "name": "stdout",
     "output_type": "stream",
     "text": [
      "0.3662877051289654\n"
     ]
    }
   ],
   "source": [
    "from sklearn import datasets \n",
    "from sklearn.cluster import KMeans \n",
    "from sklearn.metrics import davies_bouldin_score \n",
    "from sklearn.datasets.samples_generator import make_blobs \n",
    "  \n",
    "# loading the dataset \n",
    "X, y_true = make_blobs(n_samples=300, centers=4,  \n",
    "                       cluster_std=0.50, random_state=0) \n",
    "  \n",
    "# K-Means \n",
    "kmeans = KMeans(n_clusters=4, random_state=1).fit(X) \n",
    "  \n",
    "# we store the cluster labels \n",
    "labels = kmeans.labels_ \n",
    "  \n",
    "print(davies_bouldin_score(X, labels)) "
   ]
  }
 ],
 "metadata": {
  "kernelspec": {
   "display_name": "Python 3",
   "language": "python",
   "name": "python3"
  },
  "language_info": {
   "codemirror_mode": {
    "name": "ipython",
    "version": 3
   },
   "file_extension": ".py",
   "mimetype": "text/x-python",
   "name": "python",
   "nbconvert_exporter": "python",
   "pygments_lexer": "ipython3",
   "version": "3.7.6"
  }
 },
 "nbformat": 4,
 "nbformat_minor": 4
}

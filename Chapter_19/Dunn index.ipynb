{
 "cells": [
  {
   "cell_type": "markdown",
   "metadata": {},
   "source": [
    "## Dunn index"
   ]
  },
  {
   "cell_type": "markdown",
   "metadata": {},
   "source": [
    "#### Note: To execute this notebook, you need to install <i> jqmcvi </i> library\n",
    "\n",
    "\n",
    "Download library from github: https://github.com/jqmviegas/jqm_cvi\n",
    "\n",
    "Execute following command from python/anaconda terminal by going into package directory: <i> python setup.py install </i>\n",
    "\n",
    "<b> Prerequisites: Install Visual Studio </b>\n",
    "\n",
    "Follow the steps described by <b> Josh Bowden </b> on Stackoverflow: https://stackoverflow.com/questions/2817869/error-unable-to-find-vcvarsall-bat \n",
    "\n",
    "If you still encounter errors, Please use goolde search"
	"\n\n"
	"Other - Unable to find vcvarsall.bat file error: https://medium.com/@HojjatA/how-i-solved-error-unable-to-find-vcvarsall-bat-f161d4e3b21c \n"
   ]
  },
  {
   "cell_type": "code",
   "execution_count": null,
   "metadata": {},
   "outputs": [],
   "source": [
    "import pandas as pd \n",
    "from sklearn import datasets \n",
    "from jqmcvi import base \n",
    "  \n",
    "# loading the dataset \n",
    "X = datasets.load_iris() \n",
    "df = pd.DataFrame(X.data) \n",
    "  \n",
    "# K-Means \n",
    "from sklearn import cluster \n",
    "k_means = cluster.KMeans(n_clusters=3) \n",
    "k_means.fit(df) #K-means training \n",
    "y_pred = k_means.predict(df) \n",
    "  \n",
    "# We store the K-means results in a dataframe \n",
    "pred = pd.DataFrame(y_pred) \n",
    "pred.columns = ['Type'] \n",
    "  \n",
    "# we merge this dataframe with df \n",
    "prediction = pd.concat([df, pred], axis = 1) \n",
    "  \n",
    "# We store the clusters \n",
    "clus0 = prediction.loc[prediction.Species == 0] \n",
    "clus1 = prediction.loc[prediction.Species == 1] \n",
    "clus2 = prediction.loc[prediction.Species == 2] \n",
    "cluster_list = [clus0.values, clus1.values, clus2.values] \n",
    "  \n",
    "print(base.dunn(cluster_list)) "
   ]
  }
 ],
 "metadata": {
  "kernelspec": {
   "display_name": "Python 3",
   "language": "python",
   "name": "python3"
  },
  "language_info": {
   "codemirror_mode": {
    "name": "ipython",
    "version": 3
   },
   "file_extension": ".py",
   "mimetype": "text/x-python",
   "name": "python",
   "nbconvert_exporter": "python",
   "pygments_lexer": "ipython3",
   "version": "3.7.6"
  }
 },
 "nbformat": 4,
 "nbformat_minor": 4
}

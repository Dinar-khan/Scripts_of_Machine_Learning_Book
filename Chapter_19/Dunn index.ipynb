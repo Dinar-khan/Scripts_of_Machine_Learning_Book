{
 "cells": [
  {
   "cell_type": "markdown",
   "metadata": {},
   "source": [
    "## Dunn index"
   ]
  },
  {
   "cell_type": "code",
   "execution_count": 3,
   "metadata": {},
   "outputs": [
    {
     "ename": "ModuleNotFoundError",
     "evalue": "No module named 'jqmcvi'",
     "output_type": "error",
     "traceback": [
      "\u001b[1;31m---------------------------------------------------------------------------\u001b[0m",
      "\u001b[1;31mModuleNotFoundError\u001b[0m                       Traceback (most recent call last)",
      "\u001b[1;32m<ipython-input-3-e54921811d67>\u001b[0m in \u001b[0;36m<module>\u001b[1;34m\u001b[0m\n\u001b[0;32m      1\u001b[0m \u001b[1;32mimport\u001b[0m \u001b[0mpandas\u001b[0m \u001b[1;32mas\u001b[0m \u001b[0mpd\u001b[0m\u001b[1;33m\u001b[0m\u001b[1;33m\u001b[0m\u001b[0m\n\u001b[0;32m      2\u001b[0m \u001b[1;32mfrom\u001b[0m \u001b[0msklearn\u001b[0m \u001b[1;32mimport\u001b[0m \u001b[0mdatasets\u001b[0m\u001b[1;33m\u001b[0m\u001b[1;33m\u001b[0m\u001b[0m\n\u001b[1;32m----> 3\u001b[1;33m \u001b[1;32mfrom\u001b[0m \u001b[0mjqmcvi\u001b[0m \u001b[1;32mimport\u001b[0m \u001b[0mbase\u001b[0m\u001b[1;33m\u001b[0m\u001b[1;33m\u001b[0m\u001b[0m\n\u001b[0m\u001b[0;32m      4\u001b[0m \u001b[1;33m\u001b[0m\u001b[0m\n\u001b[0;32m      5\u001b[0m \u001b[1;31m# loading the dataset\u001b[0m\u001b[1;33m\u001b[0m\u001b[1;33m\u001b[0m\u001b[1;33m\u001b[0m\u001b[0m\n",
      "\u001b[1;31mModuleNotFoundError\u001b[0m: No module named 'jqmcvi'"
     ]
    }
   ],
   "source": [
    "import pandas as pd \n",
    "from sklearn import datasets \n",
    "from jqmcvi import base \n",
    "  \n",
    "# loading the dataset \n",
    "X = datasets.load_iris() \n",
    "df = pd.DataFrame(X.data) \n",
    "  \n",
    "# K-Means \n",
    "from sklearn import cluster \n",
    "k_means = cluster.KMeans(n_clusters=3) \n",
    "k_means.fit(df) #K-means training \n",
    "y_pred = k_means.predict(df) \n",
    "  \n",
    "# We store the K-means results in a dataframe \n",
    "pred = pd.DataFrame(y_pred) \n",
    "pred.columns = ['Type'] \n",
    "  \n",
    "# we merge this dataframe with df \n",
    "prediction = pd.concat([df, pred], axis = 1) \n",
    "  \n",
    "# We store the clusters \n",
    "clus0 = prediction.loc[prediction.Species == 0] \n",
    "clus1 = prediction.loc[prediction.Species == 1] \n",
    "clus2 = prediction.loc[prediction.Species == 2] \n",
    "cluster_list = [clus0.values, clus1.values, clus2.values] \n",
    "  \n",
    "print(base.dunn(cluster_list)) "
   ]
  },
  {
   "cell_type": "markdown",
   "metadata": {},
   "source": [
    "## DB Index"
   ]
  },
  {
   "cell_type": "code",
   "execution_count": 4,
   "metadata": {},
   "outputs": [
    {
     "name": "stdout",
     "output_type": "stream",
     "text": [
      "0.3662877051289654\n"
     ]
    }
   ],
   "source": [
    "from sklearn import datasets \n",
    "from sklearn.cluster import KMeans \n",
    "from sklearn.metrics import davies_bouldin_score \n",
    "from sklearn.datasets.samples_generator import make_blobs \n",
    "  \n",
    "# loading the dataset \n",
    "X, y_true = make_blobs(n_samples=300, centers=4,  \n",
    "                       cluster_std=0.50, random_state=0) \n",
    "  \n",
    "# K-Means \n",
    "kmeans = KMeans(n_clusters=4, random_state=1).fit(X) \n",
    "  \n",
    "# we store the cluster labels \n",
    "labels = kmeans.labels_ \n",
    "  \n",
    "print(davies_bouldin_score(X, labels)) "
   ]
  },
  {
   "cell_type": "code",
   "execution_count": null,
   "metadata": {},
   "outputs": [],
   "source": []
  }
 ],
 "metadata": {
  "kernelspec": {
   "display_name": "Python 3",
   "language": "python",
   "name": "python3"
  },
  "language_info": {
   "codemirror_mode": {
    "name": "ipython",
    "version": 3
   },
   "file_extension": ".py",
   "mimetype": "text/x-python",
   "name": "python",
   "nbconvert_exporter": "python",
   "pygments_lexer": "ipython3",
   "version": "3.7.6"
  }
 },
 "nbformat": 4,
 "nbformat_minor": 4
}
